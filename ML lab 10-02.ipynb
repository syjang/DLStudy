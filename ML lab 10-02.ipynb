{
 "cells": [
  {
   "cell_type": "code",
   "execution_count": 1,
   "metadata": {
    "collapsed": true
   },
   "outputs": [],
   "source": [
    "import tensorflow as tf\n",
    "import random"
   ]
  },
  {
   "cell_type": "code",
   "execution_count": 2,
   "metadata": {
    "collapsed": true
   },
   "outputs": [],
   "source": [
    "from tensorflow.examples.tutorials.mnist import input_data"
   ]
  },
  {
   "cell_type": "code",
   "execution_count": 3,
   "metadata": {},
   "outputs": [
    {
     "name": "stdout",
     "output_type": "stream",
     "text": [
      "Extracting MNIST_data/train-images-idx3-ubyte.gz\n",
      "Extracting MNIST_data/train-labels-idx1-ubyte.gz\n",
      "Extracting MNIST_data/t10k-images-idx3-ubyte.gz\n",
      "Extracting MNIST_data/t10k-labels-idx1-ubyte.gz\n"
     ]
    }
   ],
   "source": [
    "tf.set_random_seed(777)\n",
    "\n",
    "mnist = input_data.read_data_sets(\"MNIST_data/\", one_hot=True)\n",
    "\n",
    "learning_rate = 0.001\n",
    "training_epochs = 15\n",
    "batch_size = 100"
   ]
  },
  {
   "cell_type": "code",
   "execution_count": 5,
   "metadata": {},
   "outputs": [],
   "source": [
    "X = tf.placeholder(tf.float32 ,[None,784])\n",
    "Y = tf.placeholder(tf.float32, [None,10])\n",
    "\n",
    "W1 = tf.get_variable(\"W1\",shape=[784,256],initializer=tf.contrib.layers.xavier_initializer())\n",
    "b1 = tf.Variable(tf.random_normal([256]))\n",
    "L1 = tf.nn.relu(tf.matmul(X,W1) + b1)\n",
    "\n",
    "W2 = tf.get_variable(\"W2\",shape=[256,256],initializer=tf.contrib.layers.xavier_initializer())\n",
    "b2 = tf.Variable(tf.random_normal([256]))\n",
    "L2 = tf.nn.relu(tf.matmul(L1,W2) + b2)\n",
    "\n",
    "W3 = tf.get_variable(\"W3\",shape=[256,10],initializer=tf.contrib.layers.xavier_initializer())\n",
    "b3 = tf.Variable(tf.random_normal([10]))\n",
    "hypothesis = (tf.matmul(L2,W3) + b3)\n",
    "\n",
    "cost = tf.reduce_mean(tf.nn.softmax_cross_entropy_with_logits(logits=hypothesis ,labels=Y))\n",
    "optimizer = tf.train.AdamOptimizer(learning_rate=learning_rate).minimize(cost)\n"
   ]
  },
  {
   "cell_type": "code",
   "execution_count": 7,
   "metadata": {},
   "outputs": [
    {
     "name": "stdout",
     "output_type": "stream",
     "text": [
      "epoch: 0001 cost = 0.316659186\n",
      "epoch: 0002 cost = 0.118795964\n",
      "epoch: 0003 cost = 0.075880611\n",
      "epoch: 0004 cost = 0.052600131\n",
      "epoch: 0005 cost = 0.039321345\n",
      "epoch: 0006 cost = 0.030983975\n",
      "epoch: 0007 cost = 0.025714831\n",
      "epoch: 0008 cost = 0.019621716\n",
      "epoch: 0009 cost = 0.016977819\n",
      "epoch: 0010 cost = 0.014131999\n",
      "epoch: 0011 cost = 0.012353325\n",
      "epoch: 0012 cost = 0.014022033\n",
      "epoch: 0013 cost = 0.005833510\n",
      "epoch: 0014 cost = 0.012339085\n",
      "epoch: 0015 cost = 0.012712493\n",
      "learning finished\n"
     ]
    }
   ],
   "source": [
    "sess = tf.Session()\n",
    "sess.run(tf.global_variables_initializer())\n",
    "\n",
    "for epoch in range(training_epochs):\n",
    "    avg_cost = 0\n",
    "    total_batch = int(mnist.train.num_examples /batch_size)\n",
    "    \n",
    "    for i in range(total_batch):\n",
    "        batch_xs,batch_ys = mnist.train.next_batch(batch_size)\n",
    "        feed_dict = {X : batch_xs, Y : batch_ys }\n",
    "        c ,_ = sess.run([cost,optimizer],feed_dict=feed_dict)\n",
    "        avg_cost += c/total_batch\n",
    "    \n",
    "    print('epoch:', '%04d' % (epoch + 1), 'cost =','{:.9f}'.format(avg_cost))\n",
    "    \n",
    "print('learning finished')"
   ]
  },
  {
   "cell_type": "code",
   "execution_count": 8,
   "metadata": {},
   "outputs": [
    {
     "name": "stdout",
     "output_type": "stream",
     "text": [
      "Acc : 0.979\n"
     ]
    }
   ],
   "source": [
    "correct_prediction = tf.equal(tf.argmax(hypothesis,1),tf.argmax(Y,1))\n",
    "accuracy = tf.reduce_mean(tf.cast(correct_prediction,tf.float32))\n",
    "print('Acc :',sess.run(accuracy,feed_dict= { X: mnist.test.images ,Y: mnist.test.labels}))"
   ]
  },
  {
   "cell_type": "code",
   "execution_count": 10,
   "metadata": {},
   "outputs": [
    {
     "name": "stdout",
     "output_type": "stream",
     "text": [
      "Label : [1]\n",
      "Prediection:  [1]\n"
     ]
    }
   ],
   "source": [
    "r= random.randint(0,mnist.test.num_examples -1)\n",
    "print(\"Label :\", sess.run(tf.argmax(mnist.test.labels[r:r+1],1)))\n",
    "print(\"Prediection: \", sess.run(tf.argmax(hypothesis,1),feed_dict={X:mnist.test.images[r:r+1]}))"
   ]
  },
  {
   "cell_type": "code",
   "execution_count": null,
   "metadata": {
    "collapsed": true
   },
   "outputs": [],
   "source": []
  }
 ],
 "metadata": {
  "kernelspec": {
   "display_name": "Python 3",
   "language": "python",
   "name": "python3"
  },
  "language_info": {
   "codemirror_mode": {
    "name": "ipython",
    "version": 3
   },
   "file_extension": ".py",
   "mimetype": "text/x-python",
   "name": "python",
   "nbconvert_exporter": "python",
   "pygments_lexer": "ipython3",
   "version": "3.6.3"
  }
 },
 "nbformat": 4,
 "nbformat_minor": 2
}
