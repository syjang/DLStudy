{
 "cells": [
  {
   "cell_type": "code",
   "execution_count": 1,
   "metadata": {
    "collapsed": true
   },
   "outputs": [],
   "source": [
    "import tensorflow as tf"
   ]
  },
  {
   "cell_type": "code",
   "execution_count": 2,
   "metadata": {},
   "outputs": [
    {
     "name": "stdout",
     "output_type": "stream",
     "text": [
      "Extracting MNIST_data/train-images-idx3-ubyte.gz\n",
      "Extracting MNIST_data/train-labels-idx1-ubyte.gz\n",
      "Extracting MNIST_data/t10k-images-idx3-ubyte.gz\n",
      "Extracting MNIST_data/t10k-labels-idx1-ubyte.gz\n",
      "WARNING:tensorflow:From <ipython-input-2-bcc5d899f1bf>:47: arg_max (from tensorflow.python.ops.gen_math_ops) is deprecated and will be removed in a future version.\n",
      "Instructions for updating:\n",
      "Use `argmax` instead\n"
     ]
    }
   ],
   "source": [
    "import random\n",
    "import matplotlib.pyplot as plt\n",
    "tf.set_random_seed(777)\n",
    "from tensorflow.examples.tutorials.mnist import input_data\n",
    "mnist = input_data.read_data_sets(\"MNIST_data/\", one_hot=True)\n",
    "\n",
    "nb_classes = 10\n",
    "\n",
    "X = tf.placeholder(tf.float32 ,[None,784])\n",
    "Y = tf.placeholder(tf.float32 ,[None,nb_classes])\n",
    "\n",
    "with tf.name_scope(\"layer1\") as scope:\n",
    "    W1 = tf.Variable(tf.random_normal([784,256]),name='weight1')\n",
    "    b1 = tf.Variable(tf.random_normal([256]),name='bias1')\n",
    "    layer1 = tf.nn.relu(tf.matmul(X,W1)+b1)\n",
    "    \n",
    "    w1_hist = tf.summary.histogram(\"weights1\",W1)\n",
    "    b1_hist = tf.summary.histogram(\"biases1\",b1)\n",
    "    layer1_hist = tf.summary.histogram(\"layer1\",layer1)\n",
    "    \n",
    "with tf.name_scope(\"layer2\") as scope:\n",
    "    W2 = tf.Variable(tf.random_normal([256,256]),name='weight2')\n",
    "    b2 = tf.Variable(tf.random_normal([256]),name='bias2')\n",
    "    layer2 = tf.nn.relu(tf.matmul(layer1,W2)+b2)\n",
    "    \n",
    "    w2_hist = tf.summary.histogram(\"weights2\",W2)\n",
    "    b2_hist = tf.summary.histogram(\"biases2\",b2)\n",
    "    layer2_hist = tf.summary.histogram(\"layer2\",layer2)\n",
    "\n",
    "with tf.name_scope(\"layer3\") as scope:\n",
    "    W3 = tf.Variable(tf.random_normal([256,nb_classes]),name='weight3')\n",
    "    b3 = tf.Variable(tf.random_normal([nb_classes]),name='bias3')\n",
    "    hypothesis = tf.matmul(layer2,W3)+b3\n",
    "    \n",
    "    w3_hist = tf.summary.histogram(\"weights3\",W3)\n",
    "    b3_hist = tf.summary.histogram(\"biases3\",b3)\n",
    "    layer3_hist = tf.summary.histogram(\"hypothesis\",hypothesis)\n",
    "    \n",
    "\n",
    "\n",
    "cost = tf.reduce_mean(tf.nn.softmax_cross_entropy_with_logits(logits=hypothesis, labels=Y))\n",
    "cost_sum = tf.summary.scalar(\"cost\",cost)\n",
    "\n",
    "\n",
    "optimizer =tf.train.AdamOptimizer(learning_rate=0.001).minimize(cost)\n",
    "\n",
    "predicted = tf.equal(tf.arg_max(hypothesis,1),tf.arg_max(Y,1))\n",
    "accuracy = tf.reduce_mean(tf.cast(predicted, dtype =tf.float32))"
   ]
  },
  {
   "cell_type": "code",
   "execution_count": null,
   "metadata": {
    "collapsed": true
   },
   "outputs": [],
   "source": [
    "trainin_epochs = 15\n",
    "batch_size = 100\n",
    "with tf.Session() as sess:  \n",
    "    \n",
    "    merged_summary = tf.summary.merge_all()    \n",
    "    writer = tf.summary.FileWriter(\"log/log1\")\n",
    "    writer.add_graph(sess.graph)\n",
    "    \n",
    "    sess.run(tf.global_variables_initializer())    \n",
    "    \n",
    "    for epoch in range(trainin_epochs):\n",
    "        avg_cost =0\n",
    "        total_batch  = int(mnist.train.num_examples / batch_size)\n",
    "        \n",
    "        for i in range(total_batch):\n",
    "            batch_xs, batch_ys = mnist.train.next_batch(batch_size)\n",
    "            c,_ =sess.run([cost,optimizer],feed_dict={X:batch_xs ,Y:batch_ys})\n",
    "            avg_cost += c / total_batch           \n",
    "           \n",
    "            \n",
    "        print('Epoch','%04d' % ( epoch +1 ),'cost =','{:.9f}'.format(avg_cost))\n",
    "       \n",
    "        \n",
    "    print(\"Acc\" ,accuracy.eval(session=sess,feed_dict={X:mnist.test.images, Y: mnist.test.labels}))\n",
    "    \n",
    "    r = random.randint(0, mnist.test.num_examples - 1)\n",
    "    print(\"Label: \", sess.run(tf.argmax(mnist.test.labels[r:r + 1], 1)))\n",
    "    print(\"Prediction: \", sess.run(\n",
    "        tf.argmax(hypothesis, 1), feed_dict={X: mnist.test.images[r:r + 1]}))\n",
    "\n",
    "    plt.imshow(\n",
    "        mnist.test.images[r:r + 1].reshape(28, 28),\n",
    "        cmap='Greys',\n",
    "        interpolation='nearest')\n",
    "    plt.show()\n",
    "    \n",
    "   "
   ]
  }
 ],
 "metadata": {
  "kernelspec": {
   "display_name": "Python 3",
   "language": "python",
   "name": "python3"
  },
  "language_info": {
   "codemirror_mode": {
    "name": "ipython",
    "version": 3
   },
   "file_extension": ".py",
   "mimetype": "text/x-python",
   "name": "python",
   "nbconvert_exporter": "python",
   "pygments_lexer": "ipython3",
   "version": "3.6.3"
  }
 },
 "nbformat": 4,
 "nbformat_minor": 2
}
