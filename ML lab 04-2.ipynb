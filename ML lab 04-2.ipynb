{
 "cells": [
  {
   "cell_type": "code",
   "execution_count": 4,
   "metadata": {},
   "outputs": [],
   "source": [
    "import tensorflow as tf\n",
    "import numpy as np"
   ]
  },
  {
   "cell_type": "code",
   "execution_count": 5,
   "metadata": {
    "collapsed": true
   },
   "outputs": [],
   "source": [
    "xy = np.loadtxt('study/data-01-test-score.csv',delimiter=',',dtype=np.float32)"
   ]
  },
  {
   "cell_type": "code",
   "execution_count": 6,
   "metadata": {},
   "outputs": [
    {
     "name": "stdout",
     "output_type": "stream",
     "text": [
      "(25, 3) [[  73.   80.   75.]\n",
      " [  93.   88.   93.]\n",
      " [  89.   91.   90.]\n",
      " [  96.   98.  100.]\n",
      " [  73.   66.   70.]\n",
      " [  53.   46.   55.]\n",
      " [  69.   74.   77.]\n",
      " [  47.   56.   60.]\n",
      " [  87.   79.   90.]\n",
      " [  79.   70.   88.]\n",
      " [  69.   70.   73.]\n",
      " [  70.   65.   74.]\n",
      " [  93.   95.   91.]\n",
      " [  79.   80.   73.]\n",
      " [  70.   73.   78.]\n",
      " [  93.   89.   96.]\n",
      " [  78.   75.   68.]\n",
      " [  81.   90.   93.]\n",
      " [  88.   92.   86.]\n",
      " [  78.   83.   77.]\n",
      " [  82.   86.   90.]\n",
      " [  86.   82.   89.]\n",
      " [  78.   83.   85.]\n",
      " [  76.   83.   71.]\n",
      " [  96.   93.   95.]] 25\n",
      "(25, 1) [[ 152.]\n",
      " [ 185.]\n",
      " [ 180.]\n",
      " [ 196.]\n",
      " [ 142.]\n",
      " [ 101.]\n",
      " [ 149.]\n",
      " [ 115.]\n",
      " [ 175.]\n",
      " [ 164.]\n",
      " [ 141.]\n",
      " [ 141.]\n",
      " [ 184.]\n",
      " [ 152.]\n",
      " [ 148.]\n",
      " [ 192.]\n",
      " [ 147.]\n",
      " [ 183.]\n",
      " [ 177.]\n",
      " [ 159.]\n",
      " [ 177.]\n",
      " [ 175.]\n",
      " [ 175.]\n",
      " [ 149.]\n",
      " [ 192.]]\n"
     ]
    }
   ],
   "source": [
    "x_data = xy[:,0:-1]\n",
    "y_data = xy[:,[-1]]\n",
    "\n",
    "print(x_data.shape , x_data , len(x_data))\n",
    "print(y_data.shape , y_data)"
   ]
  },
  {
   "cell_type": "code",
   "execution_count": 7,
   "metadata": {
    "collapsed": true
   },
   "outputs": [],
   "source": [
    "X = tf.placeholder(tf.float32 ,shape=[None ,3])\n",
    "Y = tf.placeholder(tf.float32 ,shape=[None,1])\n",
    "\n",
    "W= tf.Variable(tf.random_normal([3,1]) ,name='weight')\n",
    "b = tf.Variable(tf.random_normal([1]),name='bias')\n",
    "\n",
    "hypothesis = tf.matmul(X,W) + b\n",
    "\n",
    "cost = tf.reduce_mean(tf.square(hypothesis - Y ))\n",
    "\n",
    "optimizer =tf.train.GradientDescentOptimizer(learning_rate=1e-5)\n",
    "train = optimizer.minimize(cost)"
   ]
  },
  {
   "cell_type": "code",
   "execution_count": null,
   "metadata": {
    "collapsed": true
   },
   "outputs": [],
   "source": [
    "sess = tf.Session()\n",
    "\n",
    "sess.run(tf.global_variables_initializer())\n",
    "\n",
    "for step in range(2001):\n",
    "    cost_val,hy_val,_ = sess.run([cost,hypothesis,train] ,feed_dict={X: x_data ,Y : y_data})\n",
    "    if step % 10 ==0 :\n",
    "        print(step , \"cost :\", cost_val, \"\\nPrediction:\\n\" , hy_val)"
   ]
  }
 ],
 "metadata": {
  "kernelspec": {
   "display_name": "Python 3",
   "language": "python",
   "name": "python3"
  },
  "language_info": {
   "codemirror_mode": {
    "name": "ipython",
    "version": 3
   },
   "file_extension": ".py",
   "mimetype": "text/x-python",
   "name": "python",
   "nbconvert_exporter": "python",
   "pygments_lexer": "ipython3",
   "version": "3.6.3"
  }
 },
 "nbformat": 4,
 "nbformat_minor": 2
}
