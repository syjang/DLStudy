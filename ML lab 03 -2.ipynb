{
 "cells": [
  {
   "cell_type": "code",
   "execution_count": 1,
   "metadata": {
    "collapsed": true
   },
   "outputs": [],
   "source": [
    "import tensorflow as tf"
   ]
  },
  {
   "cell_type": "code",
   "execution_count": 4,
   "metadata": {},
   "outputs": [
    {
     "name": "stdout",
     "output_type": "stream",
     "text": [
      "0 1.14023 [ 0.71461403]\n",
      "1 0.324332 [ 0.84779418]\n",
      "2 0.0922546 [ 0.91882354]\n",
      "3 0.0262413 [ 0.95670587]\n",
      "4 0.0074642 [ 0.97690982]\n",
      "5 0.00212313 [ 0.98768526]\n",
      "6 0.000603906 [ 0.99343216]\n",
      "7 0.000171779 [ 0.99649715]\n",
      "8 4.88611e-05 [ 0.99813181]\n",
      "9 1.3898e-05 [ 0.99900365]\n",
      "10 3.95285e-06 [ 0.99946862]\n",
      "11 1.12448e-06 [ 0.99971658]\n",
      "12 3.1988e-07 [ 0.99984884]\n",
      "13 9.10797e-08 [ 0.99991935]\n",
      "14 2.59584e-08 [ 0.99995697]\n",
      "15 7.38062e-09 [ 0.99997705]\n",
      "16 2.09461e-09 [ 0.99998778]\n",
      "17 5.93264e-10 [ 0.9999935]\n",
      "18 1.69806e-10 [ 0.99999654]\n",
      "19 4.7141e-11 [ 0.99999815]\n",
      "20 1.47402e-11 [ 0.99999899]\n"
     ]
    }
   ],
   "source": [
    "x_data = [1,2,3]\n",
    "y_data = [1,2,3]\n",
    "\n",
    "W = tf.Variable(tf.random_normal([1]) ,name ='weight')\n",
    "X = tf.placeholder(tf.float32)\n",
    "Y = tf.placeholder(tf.float32)\n",
    "\n",
    "hypothesis = X*W\n",
    "\n",
    "cost = tf.reduce_sum(tf.square(hypothesis - Y))\n",
    "\n",
    "learning_rate = 0.1\n",
    "gradient = tf.reduce_mean((W*X -Y)*X)\n",
    "descent = W - learning_rate * gradient\n",
    "update = W.assign(descent)\n",
    "\n",
    "sess =tf.Session()\n",
    "\n",
    "sess.run(tf.global_variables_initializer())\n",
    "for step in range(21):\n",
    "    sess.run(update ,feed_dict={X: x_data, Y: y_data})\n",
    "    print(step,sess.run(cost,feed_dict={X: x_data, Y: y_data}), sess.run(W))"
   ]
  },
  {
   "cell_type": "code",
   "execution_count": null,
   "metadata": {
    "collapsed": true
   },
   "outputs": [],
   "source": []
  }
 ],
 "metadata": {
  "kernelspec": {
   "display_name": "Python 3",
   "language": "python",
   "name": "python3"
  },
  "language_info": {
   "codemirror_mode": {
    "name": "ipython",
    "version": 3
   },
   "file_extension": ".py",
   "mimetype": "text/x-python",
   "name": "python",
   "nbconvert_exporter": "python",
   "pygments_lexer": "ipython3",
   "version": "3.6.3"
  }
 },
 "nbformat": 4,
 "nbformat_minor": 2
}
