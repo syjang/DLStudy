{
 "cells": [
  {
   "cell_type": "code",
   "execution_count": 1,
   "metadata": {
    "collapsed": true
   },
   "outputs": [],
   "source": [
    "import tensorflow as tf"
   ]
  },
  {
   "cell_type": "code",
   "execution_count": 2,
   "metadata": {
    "collapsed": true
   },
   "outputs": [],
   "source": [
    "x_data = [[1,2] ,[2,3],[3,1],[4,3],[5,3],[6,2]]\n",
    "y_data = [[0],[0],[0],[1],[1],[1]]\n",
    "\n",
    "X = tf.placeholder(tf.float32 , shape=[None,2])\n",
    "Y = tf.placeholder(tf.float32, shape = [None,1])"
   ]
  },
  {
   "cell_type": "code",
   "execution_count": 4,
   "metadata": {},
   "outputs": [],
   "source": [
    "W = tf.Variable(tf.random_normal([2,1]), name ='weight')\n",
    "b = tf.Variable(tf.random_normal([1]),name='bias')\n",
    "\n",
    "hypothesis = tf.sigmoid(tf.matmul(X,W) + b)"
   ]
  },
  {
   "cell_type": "code",
   "execution_count": 5,
   "metadata": {
    "collapsed": true
   },
   "outputs": [],
   "source": [
    "cost = -tf.reduce_mean(Y*tf.log(hypothesis) + (1-Y)*tf.log(1-hypothesis))\n",
    "\n",
    "train = tf.train.GradientDescentOptimizer(learning_rate=0.01).minimize(cost)"
   ]
  },
  {
   "cell_type": "code",
   "execution_count": 6,
   "metadata": {},
   "outputs": [
    {
     "name": "stdout",
     "output_type": "stream",
     "text": [
      "0 1.10881\n",
      "200 0.629772\n",
      "400 0.574114\n",
      "600 0.539348\n",
      "800 0.513525\n",
      "1000 0.492113\n",
      "1200 0.473199\n",
      "1400 0.455904\n",
      "1600 0.439791\n",
      "1800 0.42463\n",
      "2000 0.41029\n",
      "2200 0.39669\n",
      "2400 0.383773\n",
      "2600 0.371496\n",
      "2800 0.359822\n",
      "3000 0.348719\n",
      "3200 0.338158\n",
      "3400 0.328108\n",
      "3600 0.318545\n",
      "3800 0.30944\n",
      "4000 0.300769\n",
      "4200 0.292508\n",
      "4400 0.284634\n",
      "4600 0.277125\n",
      "4800 0.269962\n",
      "5000 0.263123\n",
      "5200 0.256592\n",
      "5400 0.25035\n",
      "5600 0.244381\n",
      "5800 0.23867\n",
      "6000 0.233202\n",
      "6200 0.227963\n",
      "6400 0.222942\n",
      "6600 0.218126\n",
      "6800 0.213504\n",
      "7000 0.209065\n",
      "7200 0.2048\n",
      "7400 0.200699\n",
      "7600 0.196754\n",
      "7800 0.192956\n",
      "8000 0.189299\n",
      "8200 0.185774\n",
      "8400 0.182376\n",
      "8600 0.179097\n",
      "8800 0.175933\n",
      "9000 0.172877\n",
      "9200 0.169924\n",
      "9400 0.167069\n",
      "9600 0.164308\n",
      "9800 0.161636\n",
      "10000 0.15905\n",
      "\n",
      "Hypothesis :  [[ 0.03485924]\n",
      " [ 0.1640795 ]\n",
      " [ 0.3240059 ]\n",
      " [ 0.77277052]\n",
      " [ 0.93401861]\n",
      " [ 0.97832233]] \\correct :  [[ 0.]\n",
      " [ 0.]\n",
      " [ 0.]\n",
      " [ 1.]\n",
      " [ 1.]\n",
      " [ 1.]] \\Accuracy :  1.0\n"
     ]
    }
   ],
   "source": [
    "predicted = tf.cast(hypothesis > 0.5 ,dtype=tf.float32)\n",
    "accuracy = tf.reduce_mean(tf.cast(tf.equal(predicted,Y) ,dtype=tf.float32))\n",
    "\n",
    "with tf.Session() as sess:\n",
    "    sess.run(tf.global_variables_initializer())\n",
    "    \n",
    "    for step in range(10001):\n",
    "        cost_val ,_ =sess.run([cost,train],feed_dict={X: x_data ,Y: y_data})\n",
    "        if step %200 ==0:\n",
    "            print(step,cost_val)\n",
    "            \n",
    "    h,c,a = sess.run([hypothesis,predicted,accuracy], feed_dict= {X:x_data ,Y:y_data})\n",
    "    print(\"\\nHypothesis : \",h,\"\\correct : \",c,\"\\Accuracy : \",a)\n",
    "        \n",
    "        "
   ]
  },
  {
   "cell_type": "code",
   "execution_count": null,
   "metadata": {
    "collapsed": true
   },
   "outputs": [],
   "source": []
  }
 ],
 "metadata": {
  "kernelspec": {
   "display_name": "Python 3",
   "language": "python",
   "name": "python3"
  },
  "language_info": {
   "codemirror_mode": {
    "name": "ipython",
    "version": 3
   },
   "file_extension": ".py",
   "mimetype": "text/x-python",
   "name": "python",
   "nbconvert_exporter": "python",
   "pygments_lexer": "ipython3",
   "version": "3.6.3"
  }
 },
 "nbformat": 4,
 "nbformat_minor": 2
}
