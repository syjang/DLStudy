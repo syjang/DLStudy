{
 "cells": [
  {
   "cell_type": "code",
   "execution_count": 1,
   "metadata": {},
   "outputs": [],
   "source": [
    "from PIL import Image\n",
    "import numpy as np"
   ]
  },
  {
   "cell_type": "code",
   "execution_count": 6,
   "metadata": {},
   "outputs": [],
   "source": [
    "def average_hash(fname ,size =16):\n",
    "    img = Image.open(fname)\n",
    "    img = img.convert('L')\n",
    "    img = img.resize((size,size),Image.ANTIALIAS)\n",
    "    pixel_data = img.getdata()\n",
    "    pixels = np.array(pixel_data)\n",
    "    pixels = pixels.reshape((size,size))\n",
    "    avg = pixels.mean()\n",
    "    diff = 1 * (pixels >avg)\n",
    "    return diff\n",
    "\n",
    "def np2hash(n):\n",
    "    bhash = []\n",
    "    for n1 in ahash.tolist():\n",
    "        s1 = [str(i) for i in n1]\n",
    "        s2 = \"\".join(s1)\n",
    "        i = int(s2,2)\n",
    "        bhash.append(\"%04x\"%i)\n",
    "    return \"\".join(bhash)"
   ]
  },
  {
   "cell_type": "code",
   "execution_count": 7,
   "metadata": {},
   "outputs": [
    {
     "name": "stdout",
     "output_type": "stream",
     "text": [
      "[[0 1 1 1 1 1 1 1 1 1 1 1 1 1 1 0]\n",
      " [0 1 1 1 1 1 1 1 1 1 1 1 1 1 0 0]\n",
      " [1 1 1 1 1 1 1 1 1 1 1 1 1 1 0 0]\n",
      " [1 1 1 1 1 1 1 1 1 1 1 1 1 1 0 0]\n",
      " [1 1 1 1 1 1 1 1 1 1 1 1 1 1 0 0]\n",
      " [0 0 1 1 1 1 1 1 1 1 1 1 1 0 0 0]\n",
      " [0 1 1 1 1 1 0 0 0 1 1 1 0 0 0 0]\n",
      " [0 0 1 1 1 1 0 0 0 1 1 1 0 0 0 0]\n",
      " [0 0 0 1 1 1 0 0 0 0 1 0 0 0 0 0]\n",
      " [0 1 1 1 1 1 0 0 0 0 1 0 0 0 0 0]\n",
      " [1 1 1 1 1 0 0 0 0 0 0 1 0 0 0 0]\n",
      " [1 1 1 1 0 0 0 0 0 0 0 0 0 0 0 0]\n",
      " [1 1 1 0 1 0 0 0 0 0 0 0 0 0 0 0]\n",
      " [1 0 0 0 0 0 0 0 0 0 0 0 0 0 0 1]\n",
      " [0 0 0 0 0 0 0 0 0 0 0 0 0 0 0 0]\n",
      " [0 0 0 0 0 0 0 0 0 0 0 0 0 0 0 1]]\n",
      "7ffe7ffcfffcfffcfffc3ff87c703c701c207c20f810f000e800800100000001\n"
     ]
    }
   ],
   "source": [
    "ahash = average_hash('image/tower.jpg')\n",
    "print(ahash)\n",
    "print(np2hash(ahash))"
   ]
  },
  {
   "cell_type": "code",
   "execution_count": null,
   "metadata": {},
   "outputs": [],
   "source": []
  }
 ],
 "metadata": {
  "kernelspec": {
   "display_name": "Python 3",
   "language": "python",
   "name": "python3"
  },
  "language_info": {
   "codemirror_mode": {
    "name": "ipython",
    "version": 3
   },
   "file_extension": ".py",
   "mimetype": "text/x-python",
   "name": "python",
   "nbconvert_exporter": "python",
   "pygments_lexer": "ipython3",
   "version": "3.6.4"
  }
 },
 "nbformat": 4,
 "nbformat_minor": 2
}
