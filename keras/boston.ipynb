{
 "cells": [
  {
   "cell_type": "code",
   "execution_count": 1,
   "metadata": {},
   "outputs": [
    {
     "name": "stderr",
     "output_type": "stream",
     "text": [
      "Using TensorFlow backend.\n"
     ]
    }
   ],
   "source": [
    "from keras import layers, models"
   ]
  },
  {
   "cell_type": "code",
   "execution_count": 2,
   "metadata": {},
   "outputs": [],
   "source": [
    "class ANN(models.Model):\n",
    "    def __init__(self, Nin , Nh, Nout):\n",
    "        hidden = layers.Dense(Nh)\n",
    "        output = layers.Dense(Nout)\n",
    "        relu = layers.Activation('relu')\n",
    "        x = layers.Input(shape=(Nin,))\n",
    "        h = relu(hidden(x))\n",
    "        y = output(h)\n",
    "        super().__init__(x,y)\n",
    "        self.compile(loss ='mse',optimizer='sgd')"
   ]
  },
  {
   "cell_type": "code",
   "execution_count": 3,
   "metadata": {},
   "outputs": [],
   "source": [
    "from keras import datasets\n",
    "from sklearn import preprocessing"
   ]
  },
  {
   "cell_type": "code",
   "execution_count": 4,
   "metadata": {},
   "outputs": [
    {
     "name": "stdout",
     "output_type": "stream",
     "text": [
      "Downloading data from https://s3.amazonaws.com/keras-datasets/boston_housing.npz\n",
      "57344/57026 [==============================] - 0s 7us/step\n"
     ]
    }
   ],
   "source": [
    "(X_train , y_train) , (X_test ,y_test) = datasets.boston_housing.load_data()\n",
    "scaler = preprocessing.MinMaxScaler()\n",
    "X_train = scaler.fit_transform(X_train)\n",
    "X_test = scaler.transform(X_test)"
   ]
  },
  {
   "cell_type": "code",
   "execution_count": 5,
   "metadata": {},
   "outputs": [],
   "source": [
    "from skeras import plot_loss"
   ]
  },
  {
   "cell_type": "code",
   "execution_count": 6,
   "metadata": {},
   "outputs": [],
   "source": [
    "import matplotlib.pyplot as plt"
   ]
  },
  {
   "cell_type": "code",
   "execution_count": 7,
   "metadata": {},
   "outputs": [
    {
     "name": "stdout",
     "output_type": "stream",
     "text": [
      "Train on 323 samples, validate on 81 samples\n",
      "Epoch 1/100\n",
      " - 3s - loss: 562.4421 - val_loss: 528.2963\n",
      "Epoch 2/100\n",
      " - 0s - loss: 352.0744 - val_loss: 119.0625\n",
      "Epoch 3/100\n",
      " - 0s - loss: 115.7065 - val_loss: 100.3348\n",
      "Epoch 4/100\n",
      " - 0s - loss: 80.1197 - val_loss: 75.9387\n",
      "Epoch 5/100\n",
      " - 0s - loss: 65.8550 - val_loss: 109.7838\n",
      "Epoch 6/100\n",
      " - 0s - loss: 62.1186 - val_loss: 61.8643\n",
      "Epoch 7/100\n",
      " - 0s - loss: 49.9151 - val_loss: 57.4886\n",
      "Epoch 8/100\n",
      " - 0s - loss: 46.5787 - val_loss: 49.4439\n",
      "Epoch 9/100\n",
      " - 0s - loss: 47.8503 - val_loss: 95.2650\n",
      "Epoch 10/100\n",
      " - 0s - loss: 48.0018 - val_loss: 44.7178\n",
      "Epoch 11/100\n",
      " - 0s - loss: 51.5317 - val_loss: 43.9653\n",
      "Epoch 12/100\n",
      " - 0s - loss: 40.4862 - val_loss: 42.7198\n",
      "Epoch 13/100\n",
      " - 0s - loss: 37.1856 - val_loss: 43.9126\n",
      "Epoch 14/100\n",
      " - 0s - loss: 43.1767 - val_loss: 43.4631\n",
      "Epoch 15/100\n",
      " - 0s - loss: 48.6177 - val_loss: 36.0165\n",
      "Epoch 16/100\n",
      " - 0s - loss: 44.2389 - val_loss: 36.3721\n",
      "Epoch 17/100\n",
      " - 0s - loss: 39.4736 - val_loss: 34.1962\n",
      "Epoch 18/100\n",
      " - 0s - loss: 35.8849 - val_loss: 32.6667\n",
      "Epoch 19/100\n",
      " - 0s - loss: 38.7165 - val_loss: 32.0597\n",
      "Epoch 20/100\n",
      " - 0s - loss: 38.8273 - val_loss: 33.2103\n",
      "Epoch 21/100\n",
      " - 0s - loss: 32.8306 - val_loss: 37.4519\n",
      "Epoch 22/100\n",
      " - 0s - loss: 36.1268 - val_loss: 31.3412\n",
      "Epoch 23/100\n",
      " - 0s - loss: 37.1742 - val_loss: 36.6014\n",
      "Epoch 24/100\n",
      " - 0s - loss: 37.3533 - val_loss: 32.5508\n",
      "Epoch 25/100\n",
      " - 0s - loss: 36.0341 - val_loss: 29.1690\n",
      "Epoch 26/100\n",
      " - 0s - loss: 34.6171 - val_loss: 30.1100\n",
      "Epoch 27/100\n",
      " - 0s - loss: 34.3202 - val_loss: 37.5610\n",
      "Epoch 28/100\n",
      " - 0s - loss: 34.4894 - val_loss: 28.2596\n",
      "Epoch 29/100\n",
      " - 0s - loss: 32.1523 - val_loss: 27.3570\n",
      "Epoch 30/100\n",
      " - 0s - loss: 27.4128 - val_loss: 26.2995\n",
      "Epoch 31/100\n",
      " - 0s - loss: 26.4103 - val_loss: 38.2800\n",
      "Epoch 32/100\n",
      " - 0s - loss: 27.0708 - val_loss: 25.4425\n",
      "Epoch 33/100\n",
      " - 0s - loss: 25.2418 - val_loss: 24.8749\n",
      "Epoch 34/100\n",
      " - 0s - loss: 27.4765 - val_loss: 35.4543\n",
      "Epoch 35/100\n",
      " - 0s - loss: 45.5587 - val_loss: 28.1650\n",
      "Epoch 36/100\n",
      " - 0s - loss: 31.9241 - val_loss: 26.0456\n",
      "Epoch 37/100\n",
      " - 0s - loss: 25.2173 - val_loss: 27.3116\n",
      "Epoch 38/100\n",
      " - 0s - loss: 28.1211 - val_loss: 24.5908\n",
      "Epoch 39/100\n",
      " - 0s - loss: 25.9554 - val_loss: 27.8863\n",
      "Epoch 40/100\n",
      " - 0s - loss: 44.0916 - val_loss: 130.4199\n",
      "Epoch 41/100\n",
      " - 0s - loss: 91.8806 - val_loss: 24.9050\n",
      "Epoch 42/100\n",
      " - 0s - loss: 25.6511 - val_loss: 29.4881\n",
      "Epoch 43/100\n",
      " - 0s - loss: 27.8038 - val_loss: 26.1933\n",
      "Epoch 44/100\n",
      " - 0s - loss: 26.2539 - val_loss: 38.8625\n",
      "Epoch 45/100\n",
      " - 0s - loss: 37.2445 - val_loss: 23.5691\n",
      "Epoch 46/100\n",
      " - 0s - loss: 25.1567 - val_loss: 23.7950\n",
      "Epoch 47/100\n",
      " - 0s - loss: 24.7306 - val_loss: 38.5853\n",
      "Epoch 48/100\n",
      " - 0s - loss: 28.8854 - val_loss: 38.8467\n",
      "Epoch 49/100\n",
      " - 0s - loss: 31.2824 - val_loss: 34.7684\n",
      "Epoch 50/100\n",
      " - 0s - loss: 27.7558 - val_loss: 32.1342\n",
      "Epoch 51/100\n",
      " - 0s - loss: 25.7800 - val_loss: 22.9790\n",
      "Epoch 52/100\n",
      " - 0s - loss: 23.7676 - val_loss: 22.9710\n",
      "Epoch 53/100\n",
      " - 0s - loss: 24.9778 - val_loss: 47.8172\n",
      "Epoch 54/100\n",
      " - 0s - loss: 53.3036 - val_loss: 41.0630\n",
      "Epoch 55/100\n",
      " - 0s - loss: 33.8128 - val_loss: 39.5624\n",
      "Epoch 56/100\n",
      " - 0s - loss: 45.1355 - val_loss: 30.4226\n",
      "Epoch 57/100\n",
      " - 0s - loss: 24.8461 - val_loss: 27.7557\n",
      "Epoch 58/100\n",
      " - 0s - loss: 25.9530 - val_loss: 25.8256\n",
      "Epoch 59/100\n",
      " - 0s - loss: 24.7518 - val_loss: 25.0082\n",
      "Epoch 60/100\n",
      " - 0s - loss: 28.7116 - val_loss: 60.8707\n",
      "Epoch 61/100\n",
      " - 0s - loss: 57.0003 - val_loss: 25.2644\n",
      "Epoch 62/100\n",
      " - 0s - loss: 24.9273 - val_loss: 28.3335\n",
      "Epoch 63/100\n",
      " - 0s - loss: 25.0413 - val_loss: 30.9457\n",
      "Epoch 64/100\n",
      " - 0s - loss: 37.0308 - val_loss: 55.5475\n",
      "Epoch 65/100\n",
      " - 0s - loss: 52.0851 - val_loss: 24.0834\n",
      "Epoch 66/100\n",
      " - 0s - loss: 24.0510 - val_loss: 25.8835\n",
      "Epoch 67/100\n",
      " - 0s - loss: 24.1614 - val_loss: 24.0648\n",
      "Epoch 68/100\n",
      " - 0s - loss: 24.5409 - val_loss: 22.4061\n",
      "Epoch 69/100\n",
      " - 0s - loss: 23.0767 - val_loss: 22.5741\n",
      "Epoch 70/100\n",
      " - 0s - loss: 24.0335 - val_loss: 23.0040\n",
      "Epoch 71/100\n",
      " - 0s - loss: 26.8040 - val_loss: 22.0383\n",
      "Epoch 72/100\n",
      " - 0s - loss: 23.2128 - val_loss: 23.5352\n",
      "Epoch 73/100\n",
      " - 0s - loss: 28.5789 - val_loss: 26.7394\n",
      "Epoch 74/100\n",
      " - 0s - loss: 23.8331 - val_loss: 26.2668\n",
      "Epoch 75/100\n",
      " - 0s - loss: 25.8550 - val_loss: 31.8037\n",
      "Epoch 76/100\n",
      " - 0s - loss: 26.8274 - val_loss: 22.4905\n",
      "Epoch 77/100\n",
      " - 0s - loss: 23.9169 - val_loss: 21.6269\n",
      "Epoch 78/100\n",
      " - 0s - loss: 23.5582 - val_loss: 32.9543\n",
      "Epoch 79/100\n",
      " - 0s - loss: 26.2126 - val_loss: 23.9472\n",
      "Epoch 80/100\n",
      " - 0s - loss: 23.6866 - val_loss: 21.5291\n",
      "Epoch 81/100\n",
      " - 0s - loss: 22.6804 - val_loss: 21.5987\n",
      "Epoch 82/100\n",
      " - 0s - loss: 23.1196 - val_loss: 21.6870\n",
      "Epoch 83/100\n",
      " - 0s - loss: 23.5607 - val_loss: 32.3725\n",
      "Epoch 84/100\n",
      " - 0s - loss: 28.6213 - val_loss: 26.6604\n",
      "Epoch 85/100\n",
      " - 0s - loss: 23.3730 - val_loss: 27.6718\n",
      "Epoch 86/100\n",
      " - 0s - loss: 31.0921 - val_loss: 33.3830\n",
      "Epoch 87/100\n",
      " - 0s - loss: 30.7755 - val_loss: 48.9864\n",
      "Epoch 88/100\n",
      " - 0s - loss: 34.7602 - val_loss: 35.5334\n",
      "Epoch 89/100\n",
      " - 0s - loss: 28.2311 - val_loss: 32.9657\n",
      "Epoch 90/100\n",
      " - 0s - loss: 26.2266 - val_loss: 25.8529\n",
      "Epoch 91/100\n",
      " - 0s - loss: 25.2812 - val_loss: 22.0884\n",
      "Epoch 92/100\n",
      " - 0s - loss: 23.6548 - val_loss: 24.8972\n",
      "Epoch 93/100\n",
      " - 0s - loss: 26.5186 - val_loss: 30.9164\n",
      "Epoch 94/100\n",
      " - 0s - loss: 35.3404 - val_loss: 21.4283\n",
      "Epoch 95/100\n",
      " - 0s - loss: 23.9570 - val_loss: 21.0198\n",
      "Epoch 96/100\n",
      " - 0s - loss: 22.9837 - val_loss: 25.4971\n",
      "Epoch 97/100\n",
      " - 0s - loss: 26.5177 - val_loss: 22.0538\n",
      "Epoch 98/100\n",
      " - 0s - loss: 25.1420 - val_loss: 20.9871\n",
      "Epoch 99/100\n",
      " - 0s - loss: 22.3665 - val_loss: 22.0556\n",
      "Epoch 100/100\n",
      " - 0s - loss: 23.2478 - val_loss: 21.7240\n"
     ]
    }
   ],
   "source": [
    "Nin =13\n",
    "Nh = 5\n",
    "Nout =1\n",
    "model = ANN(Nin, Nh , Nout)\n",
    "history = model.fit(X_train ,y_train ,epochs = 100, \n",
    "                   batch_size =100 ,validation_split=0.2 ,verbose =2)"
   ]
  },
  {
   "cell_type": "code",
   "execution_count": 8,
   "metadata": {},
   "outputs": [
    {
     "name": "stdout",
     "output_type": "stream",
     "text": [
      "102/102 [==============================] - 0s 39us/step\n",
      "test loss -> 21.14\n"
     ]
    }
   ],
   "source": [
    "performance_test = model.evaluate(X_test,y_test,batch_size =100)\n",
    "print('test loss -> {:.2f}'.format(performance_test))"
   ]
  },
  {
   "cell_type": "code",
   "execution_count": 10,
   "metadata": {},
   "outputs": [
    {
     "data": {
      "image/png": "[encoded data removed]",
      "text/plain": [
       "<matplotlib.figure.Figure at 0x13685c67278>"
      ]
     },
     "metadata": {},
     "output_type": "display_data"
    }
   ],
   "source": [
    "plot_loss(history)\n",
    "plt.show()"
   ]
  },
  {
   "cell_type": "code",
   "execution_count": null,
   "metadata": {},
   "outputs": [],
   "source": []
  }
 ],
 "metadata": {
  "kernelspec": {
   "display_name": "Python 3",
   "language": "python",
   "name": "python3"
  },
  "language_info": {
   "codemirror_mode": {
    "name": "ipython",
    "version": 3
   },
   "file_extension": ".py",
   "mimetype": "text/x-python",
   "name": "python",
   "nbconvert_exporter": "python",
   "pygments_lexer": "ipython3",
   "version": "3.6.4"
  }
 },
 "nbformat": 4,
 "nbformat_minor": 2
}
