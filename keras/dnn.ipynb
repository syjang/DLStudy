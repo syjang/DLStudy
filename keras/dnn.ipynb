{
 "cells": [
  {
   "cell_type": "code",
   "execution_count": 1,
   "metadata": {},
   "outputs": [],
   "source": [
    "Nin = 784\n",
    "Nh_1 = [100,50]\n",
    "number_of_class =10\n",
    "Nout = number_of_class"
   ]
  },
  {
   "cell_type": "code",
   "execution_count": 30,
   "metadata": {},
   "outputs": [],
   "source": [
    "from keras import models ,layers\n",
    "class DNN(models.Sequential):\n",
    "    def __init__(self, Nin ,Nh_1 ,Pd_1, Nout):\n",
    "        super().__init__()\n",
    "        self.add(layers.Dense(Nh_1[0],activation ='relu' , input_shape=(Nin,), name='Hidden-1'))\n",
    "        self.add(layers.Dropout(Pd_1[0]))\n",
    "        self.add(layers.Dense(Nh_1[1],activation ='relu' , name = 'Hidden-2'))\n",
    "        self.add(layers.Dropout(Pd_1[1]))\n",
    "        self.add(layers.Dense(Nout,activation='softmax'))\n",
    "        self.compile(loss='categorical_crossentropy', optimizer ='adam', metrics=['accuracy'])"
   ]
  },
  {
   "cell_type": "code",
   "execution_count": 31,
   "metadata": {},
   "outputs": [],
   "source": [
    "import numpy as np \n",
    "from keras import datasets\n",
    "from keras.utils import np_utils\n"
   ]
  },
  {
   "cell_type": "code",
   "execution_count": 32,
   "metadata": {},
   "outputs": [],
   "source": [
    "def Data_func():\n",
    "    (X_train,y_train), (X_test , y_test) = datasets.cifar10.load_data()\n",
    "    Y_train = np_utils.to_categorical(y_train)\n",
    "    Y_test = np_utils.to_categorical(y_test)\n",
    "    L,W,H,C = X_train.shape\n",
    "    X_train = X_train.reshape(-1,W*H*C)\n",
    "    X_test = X_test.reshape(-1,W*H*C)\n",
    "    X_train = X_train /255.0\n",
    "    X_test = X_test /255.0\n",
    "    return (X_train,Y_train), (X_test , Y_test)"
   ]
  },
  {
   "cell_type": "code",
   "execution_count": 33,
   "metadata": {},
   "outputs": [],
   "source": [
    "from skeras import plot_loss , plot_acc\n",
    "import matplotlib.pyplot as plt"
   ]
  },
  {
   "cell_type": "code",
   "execution_count": 34,
   "metadata": {},
   "outputs": [],
   "source": [
    "Nh_1 = [100, 50]\n",
    "Pd_1 = [0.0 ,0.0]\n",
    "number_of_class =10\n",
    "Nout = number_of_class\n"
   ]
  },
  {
   "cell_type": "code",
   "execution_count": 36,
   "metadata": {},
   "outputs": [],
   "source": [
    "(X_train,Y_train), (X_test , Y_test) = Data_func()"
   ]
  },
  {
   "cell_type": "code",
   "execution_count": 37,
   "metadata": {},
   "outputs": [],
   "source": [
    "model = DNN(X_train.shape[1],Nh_1,Pd_1 ,Nout)"
   ]
  },
  {
   "cell_type": "code",
   "execution_count": 38,
   "metadata": {},
   "outputs": [
    {
     "name": "stdout",
     "output_type": "stream",
     "text": [
      "Train on 40000 samples, validate on 10000 samples\n",
      "Epoch 1/10\n",
      "40000/40000 [==============================] - 6s 153us/step - loss: 1.9436 - acc: 0.2994 - val_loss: 1.8050 - val_acc: 0.3605\n",
      "Epoch 2/10\n",
      "40000/40000 [==============================] - 3s 82us/step - loss: 1.7614 - acc: 0.3707 - val_loss: 1.7408 - val_acc: 0.3807\n",
      "Epoch 3/10\n",
      "40000/40000 [==============================] - 3s 81us/step - loss: 1.6929 - acc: 0.3923 - val_loss: 1.7215 - val_acc: 0.3895\n",
      "Epoch 4/10\n",
      "40000/40000 [==============================] - 3s 82us/step - loss: 1.6488 - acc: 0.4104 - val_loss: 1.6718 - val_acc: 0.4083\n",
      "Epoch 5/10\n",
      "40000/40000 [==============================] - 3s 84us/step - loss: 1.6095 - acc: 0.4279 - val_loss: 1.6223 - val_acc: 0.4218\n",
      "Epoch 6/10\n",
      "40000/40000 [==============================] - 3s 82us/step - loss: 1.5792 - acc: 0.4386 - val_loss: 1.6221 - val_acc: 0.4297\n",
      "Epoch 7/10\n",
      "40000/40000 [==============================] - 3s 84us/step - loss: 1.5623 - acc: 0.4432 - val_loss: 1.6533 - val_acc: 0.4177\n",
      "Epoch 8/10\n",
      "40000/40000 [==============================] - 3s 83us/step - loss: 1.5357 - acc: 0.4552 - val_loss: 1.5615 - val_acc: 0.4521\n",
      "Epoch 9/10\n",
      "40000/40000 [==============================] - 3s 82us/step - loss: 1.5193 - acc: 0.4624 - val_loss: 1.5732 - val_acc: 0.4394\n",
      "Epoch 10/10\n",
      "40000/40000 [==============================] - 3s 84us/step - loss: 1.5045 - acc: 0.4656 - val_loss: 1.5542 - val_acc: 0.4482\n"
     ]
    }
   ],
   "source": [
    "history = model.fit(X_train ,Y_train ,epochs=10 , batch_size =100, validation_split = 0.2)"
   ]
  },
  {
   "cell_type": "code",
   "execution_count": 39,
   "metadata": {},
   "outputs": [
    {
     "name": "stdout",
     "output_type": "stream",
     "text": [
      "10000/10000 [==============================] - 0s 36us/step\n",
      "Test Loass and Accuracy -> [1.5207238948345185, 0.46129999816417694]\n"
     ]
    }
   ],
   "source": [
    "performance_test = model.evaluate(X_test , Y_test ,batch_size = 100)\n",
    "print('Test Loass and Accuracy ->', performance_test)"
   ]
  },
  {
   "cell_type": "code",
   "execution_count": null,
   "metadata": {},
   "outputs": [],
   "source": []
  }
 ],
 "metadata": {
  "kernelspec": {
   "display_name": "Python 3",
   "language": "python",
   "name": "python3"
  },
  "language_info": {
   "codemirror_mode": {
    "name": "ipython",
    "version": 3
   },
   "file_extension": ".py",
   "mimetype": "text/x-python",
   "name": "python",
   "nbconvert_exporter": "python",
   "pygments_lexer": "ipython3",
   "version": "3.6.4"
  }
 },
 "nbformat": 4,
 "nbformat_minor": 2
}
