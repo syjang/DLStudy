{
 "cells": [
  {
   "cell_type": "code",
   "execution_count": 2,
   "metadata": {},
   "outputs": [],
   "source": [
    "from sklearn import model_selection ,metrics\n",
    "from sklearn.preprocessing import MinMaxScaler"
   ]
  },
  {
   "cell_type": "code",
   "execution_count": 4,
   "metadata": {},
   "outputs": [],
   "source": [
    "import numpy as np\n",
    "import matplotlib.pyplot as plt\n",
    "import os\n",
    "\n",
    "from keras import backend as K\n",
    "from keras.utils import np_utils\n",
    "from keras.models import Model\n",
    "from keras.layers import Input, Conv2D ,MaxPooling2D,Flatten ,Dense,Dropout"
   ]
  },
  {
   "cell_type": "code",
   "execution_count": 21,
   "metadata": {},
   "outputs": [],
   "source": [
    "import skeras\n"
   ]
  },
  {
   "cell_type": "code",
   "execution_count": 56,
   "metadata": {},
   "outputs": [],
   "source": [
    "class CNN(Model):\n",
    "    def __init__(model ,nb_classes ,in_shape = None):\n",
    "        model.nb_classes = nb_classes\n",
    "        model.in_shape = in_shape\n",
    "        model.build_model()\n",
    "        super().__init__(model.x,model.y)\n",
    "        model.compile(loss=keras.losses.categorical_crossentropy,\n",
    "                    optimizer=keras.optimizers.Adadelta(),\n",
    "                    metrics=['accuracy'])\n",
    "        \n",
    "    def build_model(model):\n",
    "        nb_classes = model.nb_classes\n",
    "        in_shape = model.in_shape\n",
    "        x = Input(in_shape)\n",
    "        h = Conv2D(32, kernel_size=(3,3), activation='relu', input_shape =in_shape)(x)\n",
    "        h = Conv2D(64,(3,3),activation='relu')(h)\n",
    "        h = MaxPooling2D(pool_size=(2,2))(h)\n",
    "        h = Dropout(0.25)(h)\n",
    "        h = Flatten()(h)\n",
    "        z_cl = h\n",
    "        h = Dense(128,activation ='relu')(h)\n",
    "        h = Dropout(0.5)(h)\n",
    "        z_fl = h\n",
    "        y = Dense(nb_classes, activation = 'softmax', name ='preds')(h)\n",
    "        model.cl_part =Model(x,z_cl)\n",
    "        model.fl_part =Model(x,z_fl)\n",
    "        model.x , model.y = x ,y"
   ]
  },
  {
   "cell_type": "code",
   "execution_count": 57,
   "metadata": {},
   "outputs": [],
   "source": [
    "class DataSet():\n",
    "    def __init__(self,X,y,nb_classes, scaling =True, test_size =0.2 , random_state =0):\n",
    "        self.X =X\n",
    "        self.add_channels()\n",
    "        X= self.X\n",
    "        X_train ,X_test ,y_train,y_test = model_selection.train_test_split(X,y,test_size=0.2 ,random_state =random_state)\n",
    "        X_train = X_train.astype('float32')\n",
    "        X_test = X_test.astype('float32')\n",
    "        if scaling:\n",
    "            scaler = MinMaxScaler()\n",
    "            n = X_train.shape[0]\n",
    "            X_train =scaler.fit_transform(X_train.reshape(n,-1)).reshape(X_train.shape)\n",
    "            n = X_test.shape[0]\n",
    "            X_test =scaler.transform(X_test.reshape(n,-1)).reshape(X_test.shape)\n",
    "            self.scaler =scaler\n",
    "        Y_train = np_utils.to_categorical(y_train, nb_classes)\n",
    "        Y_test =  np_utils.to_categorical(y_test, nb_classes)\n",
    "        self.X_train ,self.X_test = X_train,X_test\n",
    "        self.Y_train ,self.Y_test = Y_train,Y_test\n",
    "        self.y_train, self.y_test = y_train, y_test\n",
    "        \n",
    "    def add_channels(self):\n",
    "        X = self.X\n",
    "        \n",
    "        if len(X.shape) == 3:\n",
    "            N,img_rows, img_cols = X.shape\n",
    "            \n",
    "            if K.image_dim_ordering() == 'th':\n",
    "                X = X.reshape(X.shape[0],i,img_rows,img_cols)\n",
    "                input_shape = (1,img_rows,img_cols)\n",
    "            else:\n",
    "                X = X.reshape(X.shape[0],img_rows, img_cols,1)\n",
    "                input_shape = (img_rows, img_cols,1)\n",
    "        else:\n",
    "            input_shape = X.shape[1:]\n",
    "        self.X = X\n",
    "        self.input_shape = input_shape\n",
    "        "
   ]
  },
  {
   "cell_type": "code",
   "execution_count": 67,
   "metadata": {},
   "outputs": [],
   "source": [
    "class Machine():\n",
    "    def __init__(self, X, y, nb_classes = 2, fig= True):\n",
    "        self.nb_classes = nb_classes\n",
    "        self.set_data(X,y)\n",
    "        self.set_model()\n",
    "        self.fig = fig\n",
    "        \n",
    "    def set_data(self,X,y):\n",
    "        nb_classes = self.nb_classes\n",
    "        self.data = DataSet(X,y,nb_classes)\n",
    "    \n",
    "    def set_model(self):\n",
    "        nb_classes = self.nb_classes\n",
    "        data = self.data\n",
    "        self.model = CNN(nb_classes= nb_classes, in_shape = data.input_shape)\n",
    "    \n",
    "    def fit(self, nb_epoch =10 , batch_size = 128 , verbose =1):\n",
    "        data = self.data\n",
    "        model =self.model\n",
    "        \n",
    "        history = model.fit(data.X_train ,data.Y_train,batch_size =batch_size, epochs= nb_epoch,\n",
    "                           verbose = verbose,\n",
    "                           validation_data = (data.X_test,data.Y_test))\n",
    "        return history\n",
    "    \n",
    "    def run(self,nb_epoch=10 , batch_size =128 ,verbose =1):\n",
    "        data = self.data\n",
    "        model = self.model\n",
    "        fig = self.fig\n",
    "        \n",
    "        history = self.fit(nb_epoch=nb_epoch, batch_size=batch_size,verbose = verbose)\n",
    "        score = model.evaluate(data.X_test , data.Y_test, verbose =0)\n",
    "        \n",
    "        print('Confusion matrix')\n",
    "        Y_test_pred = model.predict(data.X_test,verbose =0)\n",
    "        y_test_pred = np.argmax(Y_test_pred,axis=1)\n",
    "        print(metrics.confusion_matrix(data.y_test,y_test_pred))\n",
    "        \n",
    "        print('Score :', score[0])\n",
    "        print('Acc : ',score[1])\n",
    "        \n",
    "        if fig :\n",
    "            plt.figure(figsize=(12,4))\n",
    "            plt.subplot(1,2,1)\n",
    "            skeras.plot_acc(history)\n",
    "            plt.subplot(1,2,2)\n",
    "            skeras.plot_loss(history)\n",
    "            plt.show()\n",
    "        \n",
    "        self.history = history"
   ]
  },
  {
   "cell_type": "code",
   "execution_count": 68,
   "metadata": {},
   "outputs": [],
   "source": [
    "from keras import datasets\n",
    "import keras\n",
    "assert keras.backend.image_data_format() == 'channels_last'"
   ]
  },
  {
   "cell_type": "code",
   "execution_count": 69,
   "metadata": {},
   "outputs": [],
   "source": [
    "class newMachine(Machine):\n",
    "    def __init__(self):\n",
    "        (X,y),(x_test,y_test) = datasets.cifar10.load_data()\n",
    "        super().__init__(X,y,nb_classes =10)"
   ]
  },
  {
   "cell_type": "code",
   "execution_count": 70,
   "metadata": {},
   "outputs": [
    {
     "name": "stdout",
     "output_type": "stream",
     "text": [
      "Train on 40000 samples, validate on 10000 samples\n",
      "Epoch 1/10\n",
      "40000/40000 [==============================] - 16s 407us/step - loss: 1.8610 - acc: 0.3278 - val_loss: 1.5250 - val_acc: 0.4520\n",
      "Epoch 2/10\n",
      "40000/40000 [==============================] - 11s 267us/step - loss: 1.4334 - acc: 0.4885 - val_loss: 1.2393 - val_acc: 0.5491\n",
      "Epoch 3/10\n",
      "40000/40000 [==============================] - 11s 266us/step - loss: 1.2521 - acc: 0.5561 - val_loss: 1.1114 - val_acc: 0.6026\n",
      "Epoch 4/10\n",
      "40000/40000 [==============================] - 11s 267us/step - loss: 1.1317 - acc: 0.6011 - val_loss: 1.0224 - val_acc: 0.6388\n",
      "Epoch 5/10\n",
      "40000/40000 [==============================] - 11s 268us/step - loss: 1.0426 - acc: 0.6351 - val_loss: 1.0149 - val_acc: 0.6398\n",
      "Epoch 6/10\n",
      "40000/40000 [==============================] - 11s 269us/step - loss: 0.9704 - acc: 0.6574 - val_loss: 0.9562 - val_acc: 0.6645\n",
      "Epoch 7/10\n",
      "40000/40000 [==============================] - 11s 269us/step - loss: 0.9103 - acc: 0.6811 - val_loss: 0.9183 - val_acc: 0.6770\n",
      "Epoch 8/10\n",
      "40000/40000 [==============================] - 11s 268us/step - loss: 0.8515 - acc: 0.7007 - val_loss: 0.8893 - val_acc: 0.6921\n",
      "Epoch 9/10\n",
      "40000/40000 [==============================] - 11s 266us/step - loss: 0.7975 - acc: 0.7205 - val_loss: 0.9132 - val_acc: 0.6827\n",
      "Epoch 10/10\n",
      "40000/40000 [==============================] - 11s 268us/step - loss: 0.7609 - acc: 0.7325 - val_loss: 0.9197 - val_acc: 0.6844\n",
      "Confusion matrix\n",
      "[[691  16  55  15  41   7  14  13 114  38]\n",
      " [ 13 750  20   7  16   2  23   9  45 101]\n",
      " [ 48   3 569  40 188  52  47  43  19   7]\n",
      " [ 18   3  85 495 148 127  78  48  19   9]\n",
      " [ 21   0  49  36 747  17  34  55   6   2]\n",
      " [  5   2  84 196  86 538  32  56  12   5]\n",
      " [  3   0  36  56 113  10 727   2   4   2]\n",
      " [  7   2  29  37 135  50   6 718   4  11]\n",
      " [ 56  23  18  18  11   7   8   5 821  22]\n",
      " [ 30  80   8  22  22   2  12  38  38 788]]\n",
      "Score : 0.9197027827262878\n",
      "Acc :  0.6844\n"
     ]
    },
    {
     "data": {
      "image/png": "[encoded data removed]",
      "text/plain": [
       "<matplotlib.figure.Figure at 0x19dbca1b668>"
      ]
     },
     "metadata": {},
     "output_type": "display_data"
    }
   ],
   "source": [
    "m = newMachine()\n",
    "m.run()"
   ]
  },
  {
   "cell_type": "code",
   "execution_count": null,
   "metadata": {},
   "outputs": [],
   "source": []
  },
  {
   "cell_type": "code",
   "execution_count": null,
   "metadata": {},
   "outputs": [],
   "source": []
  }
 ],
 "metadata": {
  "kernelspec": {
   "display_name": "Python 3",
   "language": "python",
   "name": "python3"
  },
  "language_info": {
   "codemirror_mode": {
    "name": "ipython",
    "version": 3
   },
   "file_extension": ".py",
   "mimetype": "text/x-python",
   "name": "python",
   "nbconvert_exporter": "python",
   "pygments_lexer": "ipython3",
   "version": "3.6.4"
  }
 },
 "nbformat": 4,
 "nbformat_minor": 2
}
