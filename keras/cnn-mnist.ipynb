{
 "cells": [
  {
   "cell_type": "code",
   "execution_count": 1,
   "metadata": {},
   "outputs": [
    {
     "name": "stderr",
     "output_type": "stream",
     "text": [
      "Using TensorFlow backend.\n"
     ]
    }
   ],
   "source": [
    "import keras"
   ]
  },
  {
   "cell_type": "code",
   "execution_count": 2,
   "metadata": {},
   "outputs": [],
   "source": [
    "from keras import models, layers"
   ]
  },
  {
   "cell_type": "code",
   "execution_count": 3,
   "metadata": {},
   "outputs": [],
   "source": [
    "from keras import backend"
   ]
  },
  {
   "cell_type": "code",
   "execution_count": 4,
   "metadata": {},
   "outputs": [],
   "source": [
    "class CNN(models.Sequential):\n",
    "    def __init__(self, input_shape, num_classes):\n",
    "        super().__init__()\n",
    "        self.add(layers.Conv2D(32, kernel_size = (3,3) ,\n",
    "                              activation='relu', input_shape= input_shape))\n",
    "        \n",
    "        self.add(layers.Conv2D(64,(3,3),activation='relu'))\n",
    "        self.add(layers.MaxPooling2D(pool_size=(2,2)))\n",
    "        self.add(layers.Dropout(0.25))\n",
    "        self.add(layers.Flatten())\n",
    "        \n",
    "        self.add(layers.Dense(128,activation ='relu'))\n",
    "        self.add(layers.Dropout(0.5))\n",
    "        self.add(layers.Dense(num_classes, activation='softmax'))\n",
    "        self.compile(loss=keras.losses.categorical_crossentropy,\n",
    "                    optimizer=keras.optimizers.Adadelta(),\n",
    "                    metrics=['accuracy'])        \n",
    "        "
   ]
  },
  {
   "cell_type": "code",
   "execution_count": 5,
   "metadata": {},
   "outputs": [],
   "source": [
    "from keras import datasets\n",
    "\n",
    "\n",
    "(x_train ,y_train) , (x_test, y_test) = datasets.mnist.load_data()"
   ]
  },
  {
   "cell_type": "code",
   "execution_count": 17,
   "metadata": {},
   "outputs": [
    {
     "name": "stdout",
     "output_type": "stream",
     "text": [
      "(28, 28)\n"
     ]
    }
   ],
   "source": [
    "print(x_train.shape[1:3])\n",
    "img_rows,img_cols = x_train.shape[1:3]\n",
    "num_classes = 10\n",
    "\n",
    "if backend.image_data_format == 'channels_first':\n",
    "    x_train = x_train.reshape(x_train.shape[0],1,img_rows,img_cols)\n",
    "    x_test = x_test.reshape(x_test.shape[0],1,img_rows,img_cols)\n",
    "    input_shape = (1, img_rows,img_cols)\n",
    "else:\n",
    "    x_train = x_train.reshape(x_train.shape[0],img_rows,img_cols,1)\n",
    "    x_test = x_test.reshape(x_test.shape[0],img_rows,img_cols,1)\n",
    "    input_shape = (img_rows,img_cols,1)\n",
    "    \n",
    "x_train = x_train.astype('float32')\n",
    "x_test = x_test.astype('float32')\n",
    "x_train /= 255\n",
    "x_test /= 255\n",
    "\n",
    "y_train = keras.utils.to_categorical(y_train,num_classes)\n",
    "y_test = keras.utils.to_categorical(y_test, num_classes)\n",
    "    \n",
    "from skeras import plot_acc, plot_loss\n",
    "import matplotlib.pyplot as plt"
   ]
  },
  {
   "cell_type": "code",
   "execution_count": 19,
   "metadata": {},
   "outputs": [],
   "source": [
    "epochs = 10\n",
    "batch_size =128\n",
    "\n",
    "model = CNN(input_shape , num_classes)"
   ]
  },
  {
   "cell_type": "code",
   "execution_count": 22,
   "metadata": {},
   "outputs": [
    {
     "name": "stdout",
     "output_type": "stream",
     "text": [
      "Train on 48000 samples, validate on 12000 samples\n",
      "Epoch 1/10\n",
      "48000/48000 [==============================] - 14s 292us/step - loss: 0.2930 - acc: 0.9094 - val_loss: 0.0702 - val_acc: 0.9811\n",
      "Epoch 2/10\n",
      "48000/48000 [==============================] - 10s 207us/step - loss: 0.0947 - acc: 0.9717 - val_loss: 0.0523 - val_acc: 0.9851\n",
      "Epoch 3/10\n",
      "48000/48000 [==============================] - 10s 207us/step - loss: 0.0717 - acc: 0.9790 - val_loss: 0.0449 - val_acc: 0.9867\n",
      "Epoch 4/10\n",
      "48000/48000 [==============================] - 10s 205us/step - loss: 0.0566 - acc: 0.9820 - val_loss: 0.0434 - val_acc: 0.9877\n",
      "Epoch 5/10\n",
      "48000/48000 [==============================] - 10s 206us/step - loss: 0.0497 - acc: 0.9845 - val_loss: 0.0399 - val_acc: 0.9879\n",
      "Epoch 6/10\n",
      "48000/48000 [==============================] - 10s 206us/step - loss: 0.0426 - acc: 0.9870 - val_loss: 0.0392 - val_acc: 0.9885\n",
      "Epoch 7/10\n",
      "48000/48000 [==============================] - 14s 302us/step - loss: 0.0382 - acc: 0.9882 - val_loss: 0.0364 - val_acc: 0.9901\n",
      "Epoch 8/10\n",
      "48000/48000 [==============================] - 10s 204us/step - loss: 0.0360 - acc: 0.9894 - val_loss: 0.0341 - val_acc: 0.9901\n",
      "Epoch 9/10\n",
      "48000/48000 [==============================] - 10s 203us/step - loss: 0.0323 - acc: 0.9902 - val_loss: 0.0365 - val_acc: 0.9898\n",
      "Epoch 10/10\n",
      "48000/48000 [==============================] - 10s 205us/step - loss: 0.0293 - acc: 0.9908 - val_loss: 0.0354 - val_acc: 0.9897\n",
      "10000/10000 [==============================] - 1s 113us/step\n",
      "Test loss 0.02808403010711263\n",
      "Test Acc 0.9912\n"
     ]
    }
   ],
   "source": [
    "model.fit(x_train ,y_train,batch_size =batch_size , epochs = epochs, validation_split =0.2)\n",
    "score =  model.evaluate(x_test,y_test)\n",
    "print(\"Test loss\", score[0])\n",
    "print(\"Test Acc\", score[1])"
   ]
  },
  {
   "cell_type": "code",
   "execution_count": null,
   "metadata": {},
   "outputs": [],
   "source": []
  }
 ],
 "metadata": {
  "kernelspec": {
   "display_name": "Python 3",
   "language": "python",
   "name": "python3"
  },
  "language_info": {
   "codemirror_mode": {
    "name": "ipython",
    "version": 3
   },
   "file_extension": ".py",
   "mimetype": "text/x-python",
   "name": "python",
   "nbconvert_exporter": "python",
   "pygments_lexer": "ipython3",
   "version": "3.6.4"
  }
 },
 "nbformat": 4,
 "nbformat_minor": 2
}
