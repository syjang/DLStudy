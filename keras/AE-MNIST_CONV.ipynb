{
 "cells": [
  {
   "cell_type": "code",
   "execution_count": 1,
   "metadata": {},
   "outputs": [
    {
     "name": "stderr",
     "output_type": "stream",
     "text": [
      "Using TensorFlow backend.\n"
     ]
    }
   ],
   "source": [
    "from keras import layers , models"
   ]
  },
  {
   "cell_type": "code",
   "execution_count": 2,
   "metadata": {},
   "outputs": [],
   "source": [
    "def Conv2D(iflters ,kernel_size , padding='same', activation='relu'):\n",
    "    return layers.Conv2D(filters,kernel_size,padding= padding, activation=activation)"
   ]
  },
  {
   "cell_type": "code",
   "execution_count": 3,
   "metadata": {},
   "outputs": [],
   "source": [
    "class AE(models.Model):\n",
    "    def __init__(self,org_shap):\n",
    "        original = layers.Input(shape=org_shape)\n",
    "        x = Conv2D(4,(3,3))(original)\n",
    "        x = layers.MaxPool2D((2,2),padding='same')(x)\n",
    "        \n",
    "        x = Conv2D(8,(3,3))(original)\n",
    "        x = layers.MaxPool2D((2,2),padding='same')(x)\n",
    "        \n",
    "        z = layers.Conv2D(1,(7,7))(x)\n",
    "        \n",
    "        y = Conv2D(16,(3,3))(z)\n",
    "        y = layers.UpSampling2D((2,2))(y)\n",
    "        \n",
    "        y = Conv2D(8,(3,3))(y)\n",
    "        y = layers.UpSampling2D((2,2))(y)\n",
    "        \n",
    "        y = Conv2D(4,(3,3))(y)\n",
    "        \n",
    "        decoded = Conv2D(1,(3,3),activation='sigmoid')(y)\n",
    "        \n",
    "        super().__init__(original,decoded)\n",
    "        self.complie(optimizer ='adadelta', loss ='binary_crossentropy',metrics=['accuracy'])        "
   ]
  },
  {
   "cell_type": "code",
   "execution_count": null,
   "metadata": {},
   "outputs": [],
   "source": []
  }
 ],
 "metadata": {
  "kernelspec": {
   "display_name": "Python 3",
   "language": "python",
   "name": "python3"
  },
  "language_info": {
   "codemirror_mode": {
    "name": "ipython",
    "version": 3
   },
   "file_extension": ".py",
   "mimetype": "text/x-python",
   "name": "python",
   "nbconvert_exporter": "python",
   "pygments_lexer": "ipython3",
   "version": "3.6.4"
  }
 },
 "nbformat": 4,
 "nbformat_minor": 2
}
