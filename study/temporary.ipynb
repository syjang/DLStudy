{
 "cells": [
  {
   "cell_type": "code",
   "execution_count": 2,
   "metadata": {},
   "outputs": [
    {
     "name": "stdout",
     "output_type": "stream",
     "text": [
      "b'sdfsdf'\n"
     ]
    }
   ],
   "source": [
    "import tensorflow as tf\n",
    "s = tf.constant(\"sdfsdf\")\n",
    "sess = tf.Session()\n",
    "print(sess.run(s))"
   ]
  },
  {
   "cell_type": "code",
   "execution_count": null,
   "metadata": {},
   "outputs": [],
   "source": [
    "import numpy as np\n",
    "train_images_tmp, train_labels_tmp = mnist.train.images,np.asarray(mnist.train.labels, dtype=np.int32)\n",
    "train_images = []\n",
    "train_labels = []\n",
    "ex = 0\n",
    "\n",
    "for i in range(batch_size,np.size(train_images_tmp,0),batch_size) :\n",
    "    test = np.reshape(train_images_tmp[ex:i], (batch_size, 28,28,1))    \n",
    "    test  = tf.convert_to_tensor(test,np.float32)    \n",
    "    test.set_shape((batch_size, 28, 28, 1)) \n",
    "    train_images.append(test)\n",
    "    \n",
    "    print(train_labels_tmp[ex:i])\n",
    "    test2 = np.reshape(train_labels_tmp[ex:i], (batch_size,))\n",
    "    test2 = tf.convert_to_tensor(test2,np.float32)\n",
    "    test2.set_shape((batch_size, ))\n",
    "    train_labels.append(test2)\n",
    "\n",
    "    ex = i"
   ]
  }
 ],
 "metadata": {
  "kernelspec": {
   "display_name": "Python 3",
   "language": "python",
   "name": "python3"
  },
  "language_info": {
   "codemirror_mode": {
    "name": "ipython",
    "version": 3
   },
   "file_extension": ".py",
   "mimetype": "text/x-python",
   "name": "python",
   "nbconvert_exporter": "python",
   "pygments_lexer": "ipython3",
   "version": "3.6.4"
  }
 },
 "nbformat": 4,
 "nbformat_minor": 2
}
