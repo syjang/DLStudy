{
 "cells": [
  {
   "cell_type": "code",
   "execution_count": 1,
   "metadata": {},
   "outputs": [],
   "source": [
    "import tensorflow as tf\n",
    "import resnet as rn\n",
    "import train"
   ]
  },
  {
   "cell_type": "code",
   "execution_count": 2,
   "metadata": {},
   "outputs": [],
   "source": [
    "num_input = 784\n",
    "num_classes = 10\n",
    "dropout =0.25"
   ]
  },
  {
   "cell_type": "code",
   "execution_count": null,
   "metadata": {},
   "outputs": [
    {
     "name": "stdout",
     "output_type": "stream",
     "text": [
      "WARNING:tensorflow:From E:\\jsy\\study\\deeplearning\\study\\resnet-mnist\\inputData.py:6: load_dataset (from tensorflow.contrib.learn.python.learn.datasets) is deprecated and will be removed in a future version.\n",
      "Instructions for updating:\n",
      "Please use tf.data.\n",
      "WARNING:tensorflow:From C:\\Users\\jang\\AppData\\Local\\conda\\conda\\envs\\TF\\lib\\site-packages\\tensorflow\\contrib\\learn\\python\\learn\\datasets\\__init__.py:80: load_mnist (from tensorflow.contrib.learn.python.learn.datasets.mnist) is deprecated and will be removed in a future version.\n",
      "Instructions for updating:\n",
      "Please use alternatives such as official/mnist/dataset.py from tensorflow/models.\n",
      "WARNING:tensorflow:From C:\\Users\\jang\\AppData\\Local\\conda\\conda\\envs\\TF\\lib\\site-packages\\tensorflow\\contrib\\learn\\python\\learn\\datasets\\mnist.py:300: read_data_sets (from tensorflow.contrib.learn.python.learn.datasets.mnist) is deprecated and will be removed in a future version.\n",
      "Instructions for updating:\n",
      "Please use alternatives such as official/mnist/dataset.py from tensorflow/models.\n",
      "WARNING:tensorflow:From C:\\Users\\jang\\AppData\\Local\\conda\\conda\\envs\\TF\\lib\\site-packages\\tensorflow\\contrib\\learn\\python\\learn\\datasets\\mnist.py:260: maybe_download (from tensorflow.contrib.learn.python.learn.datasets.base) is deprecated and will be removed in a future version.\n",
      "Instructions for updating:\n",
      "Please write your own downloading logic.\n",
      "WARNING:tensorflow:From C:\\Users\\jang\\AppData\\Local\\conda\\conda\\envs\\TF\\lib\\site-packages\\tensorflow\\contrib\\learn\\python\\learn\\datasets\\mnist.py:262: extract_images (from tensorflow.contrib.learn.python.learn.datasets.mnist) is deprecated and will be removed in a future version.\n",
      "Instructions for updating:\n",
      "Please use tf.data to implement this functionality.\n",
      "Extracting MNIST-data\\train-images-idx3-ubyte.gz\n",
      "WARNING:tensorflow:From C:\\Users\\jang\\AppData\\Local\\conda\\conda\\envs\\TF\\lib\\site-packages\\tensorflow\\contrib\\learn\\python\\learn\\datasets\\mnist.py:267: extract_labels (from tensorflow.contrib.learn.python.learn.datasets.mnist) is deprecated and will be removed in a future version.\n",
      "Instructions for updating:\n",
      "Please use tf.data to implement this functionality.\n",
      "Extracting MNIST-data\\train-labels-idx1-ubyte.gz\n",
      "Extracting MNIST-data\\t10k-images-idx3-ubyte.gz\n",
      "Extracting MNIST-data\\t10k-labels-idx1-ubyte.gz\n",
      "WARNING:tensorflow:From C:\\Users\\jang\\AppData\\Local\\conda\\conda\\envs\\TF\\lib\\site-packages\\tensorflow\\contrib\\learn\\python\\learn\\datasets\\mnist.py:290: DataSet.__init__ (from tensorflow.contrib.learn.python.learn.datasets.mnist) is deprecated and will be removed in a future version.\n",
      "Instructions for updating:\n",
      "Please use alternatives such as official/mnist/dataset.py from tensorflow/models.\n",
      "Build a tower: tower_0/\n",
      "Building model\n",
      "\tBuilding unit: conv1\n",
      "\tBuilding residual unit: conv2_1\n",
      "\tBuilding residual unit: conv2_2\n",
      "\tBuilding residual unit: conv3_1\n",
      "\tBuilding residual unit: conv3_2\n",
      "\tBuilding residual unit: conv4_1\n",
      "\tBuilding residual unit: conv4_2\n",
      "\tBuilding residual unit: conv5_1\n",
      "\tBuilding residual unit: conv5_2\n",
      "\tBuilding unit: logits\n",
      "Compute gradients of tower: tower_0_1/\n",
      "Average gradients\n",
      "Build a tower: tower_0_2/\n",
      "Building model\n",
      "\tBuilding unit: conv1\n",
      "\tBuilding residual unit: conv2_1\n",
      "\tBuilding residual unit: conv2_2\n",
      "\tBuilding residual unit: conv3_1\n",
      "\tBuilding residual unit: conv3_2\n",
      "\tBuilding residual unit: conv4_1\n",
      "\tBuilding residual unit: conv4_2\n",
      "\tBuilding residual unit: conv5_1\n",
      "\tBuilding residual unit: conv5_2\n",
      "\tBuilding unit: logits\n",
      "Number of Weights: 11165770\n",
      "FLOPs: 65407508\n",
      "2018-07-13 10:08:47.224842: (val)     step 0, loss=2.5273, acc=0.1100\n",
      "2018-07-13 10:09:53.156791: (val)     step 1000, loss=29.3408, acc=0.2700\n",
      "2018-07-13 10:10:57.863601: (val)     step 2000, loss=10.5118, acc=0.3000\n",
      "2018-07-13 10:12:02.193767: (val)     step 3000, loss=9.5420, acc=0.3100\n",
      "2018-07-13 10:13:06.531251: (val)     step 4000, loss=9.0383, acc=0.3200\n",
      "2018-07-13 10:14:10.979868: (val)     step 5000, loss=8.6649, acc=0.3100\n",
      "2018-07-13 10:15:15.504298: (val)     step 6000, loss=8.2480, acc=0.3400\n",
      "2018-07-13 10:16:19.962560: (val)     step 7000, loss=7.9322, acc=0.3400\n",
      "2018-07-13 10:17:24.450427: (val)     step 8000, loss=7.5914, acc=0.3400\n",
      "2018-07-13 10:18:29.433321: (val)     step 9000, loss=7.2891, acc=0.3400\n"
     ]
    }
   ],
   "source": [
    "train.train(num_input,num_classes,100)"
   ]
  },
  {
   "cell_type": "code",
   "execution_count": null,
   "metadata": {},
   "outputs": [],
   "source": [
    "import numpy as np\n",
    "test = np.array([[1.0, 2.0,3.0], [3.0, 4.0,5.0]])\n",
    "print(test.shape)\n",
    "print(np.size(test,0))"
   ]
  },
  {
   "cell_type": "code",
   "execution_count": null,
   "metadata": {},
   "outputs": [],
   "source": [
    "print(test[0])"
   ]
  },
  {
   "cell_type": "code",
   "execution_count": null,
   "metadata": {},
   "outputs": [],
   "source": []
  }
 ],
 "metadata": {
  "kernelspec": {
   "display_name": "Python 3",
   "language": "python",
   "name": "python3"
  },
  "language_info": {
   "codemirror_mode": {
    "name": "ipython",
    "version": 3
   },
   "file_extension": ".py",
   "mimetype": "text/x-python",
   "name": "python",
   "nbconvert_exporter": "python",
   "pygments_lexer": "ipython3",
   "version": "3.6.4"
  }
 },
 "nbformat": 4,
 "nbformat_minor": 2
}
